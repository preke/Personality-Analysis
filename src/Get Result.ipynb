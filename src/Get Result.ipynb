{
 "cells": [
  {
   "cell_type": "code",
   "execution_count": 2,
   "metadata": {},
   "outputs": [],
   "source": [
    "import numpy as np\n",
    "import pandas as pd\n",
    "\n",
    "\n"
   ]
  },
  {
   "cell_type": "code",
   "execution_count": 17,
   "metadata": {},
   "outputs": [
    {
     "name": "stdout",
     "output_type": "stream",
     "text": [
      "0.556 \\pm 0.045\t0.549 \\pm 0.046\t\n",
      "0.642 \\pm 0.028\t0.536 \\pm 0.041\t\n"
     ]
    },
    {
     "name": "stderr",
     "output_type": "stream",
     "text": [
      "/opt/anaconda3/lib/python3.7/site-packages/ipykernel_launcher.py:6: FutureWarning: \n",
      ".ix is deprecated. Please use\n",
      ".loc for label based indexing or\n",
      ".iloc for positional indexing\n",
      "\n",
      "See the documentation here:\n",
      "http://pandas.pydata.org/pandas-docs/stable/user_guide/indexing.html#ix-indexer-is-deprecated\n",
      "  \n",
      "/opt/anaconda3/lib/python3.7/site-packages/ipykernel_launcher.py:11: FutureWarning: \n",
      ".ix is deprecated. Please use\n",
      ".loc for label based indexing or\n",
      ".iloc for positional indexing\n",
      "\n",
      "See the documentation here:\n",
      "http://pandas.pydata.org/pandas-docs/stable/user_guide/indexing.html#ix-indexer-is-deprecated\n",
      "  # This is added back by InteractiveShellApp.init_path()\n"
     ]
    }
   ],
   "source": [
    "results =  [[0.5, 0.5833333333333334, 0.5694444444444444, 0.5555555555555556, 0.5138888888888888, 0.5277777777777778, 0.6527777777777778, 0.5694444444444444, 0.5694444444444444, 0.5138888888888888], [0.625, 0.5694444444444444, 0.5416666666666666, 0.5833333333333334, 0.5138888888888888, 0.5416666666666666, 0.4722222222222222, 0.5, 0.5416666666666666, 0.5972222222222222], [0.6388888888888888, 0.6111111111111112, 0.6805555555555556, 0.6527777777777778, 0.6527777777777778, 0.5833333333333334, 0.6527777777777778, 0.6666666666666666, 0.6527777777777778, 0.625], [0.4861111111111111, 0.5277777777777778, 0.5138888888888888, 0.5138888888888888, 0.625, 0.5555555555555556, 0.5694444444444444, 0.5138888888888888, 0.5, 0.5555555555555556]]\n",
    "\n",
    "df = pd.DataFrame(results).T\n",
    "s = \"\"\n",
    "for i in range(0,2):\n",
    "    s += str(df.describe().round(3).ix['mean'][i])+ ' \\pm '+ str(df.describe().round(3).ix['std'][i])+'\\t'\n",
    "print(s)\n",
    "\n",
    "s = \"\"\n",
    "for i in range(2,4):\n",
    "    s += str(df.describe().round(3).ix['mean'][i])+ ' \\pm '+ str(df.describe().round(3).ix['std'][i])+'\\t'\n",
    "print(s)"
   ]
  },
  {
   "cell_type": "code",
   "execution_count": 5,
   "metadata": {},
   "outputs": [],
   "source": [
    "a = [[0.5416666666666666, 0.4444444444444444, 0.6527777777777778, 0.5277777777777778, 0.4861111111111111, 0.6388888888888888, 0.6388888888888888, 0.6111111111111112, 0.5555555555555556, 0.5694444444444444], [0.5833333333333334, 0.4861111111111111, 0.5277777777777778, 0.5277777777777778, 0.5416666666666666, 0.5, 0.5416666666666666, 0.5416666666666666, 0.5694444444444444, 0.4583333333333333], [0.5972222222222222, 0.5694444444444444, 0.5694444444444444, 0.5138888888888888, 0.5277777777777778, 0.6388888888888888, 0.625, 0.4861111111111111, 0.6388888888888888, 0.6111111111111112], [0.6527777777777778, 0.6527777777777778, 0.6527777777777778, 0.6527777777777778, 0.6388888888888888, 0.6527777777777778, 0.6527777777777778, 0.6666666666666666, 0.6527777777777778, 0.6527777777777778], [0.5555555555555556, 0.5277777777777778, 0.5138888888888888, 0.5277777777777778, 0.5277777777777778, 0.4305555555555556, 0.4861111111111111, 0.5277777777777778, 0.5277777777777778, 0.5]]"
   ]
  },
  {
   "cell_type": "code",
   "execution_count": 18,
   "metadata": {},
   "outputs": [
    {
     "data": {
      "text/plain": [
       "711"
      ]
     },
     "execution_count": 18,
     "metadata": {},
     "output_type": "execute_result"
    }
   ],
   "source": [
    "a = [0,0,1,3,0,0,3,0,0,1,3,1,0,1,0,0,0,0,1,3,0,3,0,1,1,1,1,1,3,0,1,0,1,0,3,3,0,0,3,1,3,0,3,3,0,0,0,1,0,0,3,0,0,3,1,0,0,1,0,3,1,1,1,0,1,1,3,0,0,3,1,0,0,0,1,1,1,1,3,0,0,0,3,0,1,1,0,0,0,0,1,1,0,0,1,1,1,1,1,1,0,1,0,3,0,0,1,0,0,3,0,3,1,0,0,0,1,1,1,0,0,3,1,0,0,3,0,3,1,0,0,0,1,0,0,0,3,0,3,3,1,0,1,1,1,1,0,0,0,1,1,1,0,1,0,3,1,0,1,1,1,0,0,0,0,3,1,1,1,3,0,0,1,1,0,0,0,1,1,0,1,0,3,1,3,3,0,0,1,1,1,0,0,0,1,0,0,1,0,0,0,0,3,3,0,0,1,0,1,1,0,1,1,3,3,0,0,0,3,3,1,1,1,3,0,1,1,0,3,3,3,1,1,1,1,1,3,1,0,3,0,0,0,1,1,3,1,0,1,3,0,0,1,3,0,0,0,0,1,0,0,1,3,0,0,1,3,1,0,1,1,3,0,0,1,0,1,0,1,1,1,0,1,1,0,1,0,1,0,0,1,0,3,0,0,0,0,0,0,0,0,3,3,3,3,1,1,0,1,3,0,3,0,0,0,0,1,3,0,0,3,1,0,0,3,4,1,3,1,3,3,3,0,3,3,0,0,0,1,0,0,1,1,1,0,0,1,0,0,0,0,3,0,0,0,1,0,1,0,3,1,0,3,3,0,0,0,3,1,0,3,0,0,1,3,0,3,0,1,0,0,0,0,0,3,3,1,3,3,1,0,0,1,1,0,0,1,0,3,0,3,3,0,1,3,1,0,0,1,0,0,0,1,0,0,0,3,3,1,3,3,0,0,0,1,0,0,0,0,0,1,0,0,1,0,0,0,0,3,3,0,1,1,1,1,1,0,1,1,0,1,1,3,0,3,0,3,0,0,3,3,1,0,0,0,1,0,0,1,0,3,1,1,1,1,3,0,3,0,1,0,1,1,1,0,0,0,1,0,0,1,1,3,0,1,0,1,3,0,0,0,0,3,0,0,0,1,1,0,0,0,1,1,1,1,1,1,0,1,0,0,0,0,3,0,1,3,0,3,0,1,1,0,0,1,3,0,0,0,1,0,1,0,1,3,1,1,1,0,0,0,1,0,3,1,0,1,0,1,0,0,0,1,0,1,1,1,0,0,1,1,0,0,0,0,1,0,1,0,0,0,1,1,0,1,0,1,3,3,0,0,1,1,0,3,1,0,3,1,1,1,0,1,0,0,0,0,0,0,1,1,1,0,3,0,0,0,0,1,0,0,0,0,0,3,1,0,0,1,1,3,1,0,3,0,0,1,1,1,3,3,0,0,1,1,0,0,1,1,0,3,0,1,0,1,3,1,0,0,0,0,0,0,1,3,0,1,3,0,1,0,0,0,0,0,0,0,0,1,0,3,1,0,0,1,0,1,1,0,0,0,1,1,0,0,1,3,0,1,1,0,0,3,1,0,1,0,0,1,0,0]\n",
    "len(a)"
   ]
  },
  {
   "cell_type": "code",
   "execution_count": null,
   "metadata": {},
   "outputs": [],
   "source": []
  },
  {
   "cell_type": "code",
   "execution_count": 39,
   "metadata": {
    "scrolled": true
   },
   "outputs": [
    {
     "data": {
      "text/plain": [
       "[[0.5833333333333334, 0.4861111111111111, 0.625, 0.625],\n",
       " [0.4861111111111111, 0.5, 0.5416666666666666, 0.5138888888888888],\n",
       " [0.5277777777777778,\n",
       "  0.5416666666666666,\n",
       "  0.5416666666666666,\n",
       "  0.6944444444444444],\n",
       " [0.6388888888888888,\n",
       "  0.6527777777777778,\n",
       "  0.6944444444444444,\n",
       "  0.6111111111111112],\n",
       " [0.5555555555555556,\n",
       "  0.5277777777777778,\n",
       "  0.5138888888888888,\n",
       "  0.5277777777777778]]"
      ]
     },
     "execution_count": 39,
     "metadata": {},
     "output_type": "execute_result"
    }
   ],
   "source": [
    "a = [[0.5277777777777778, 0.5416666666666666, 0.6388888888888888, 0.5833333333333334, 0.4861111111111111, 0.625, 0.625, 0.625, 0.625, 0.5138888888888888], [0.5138888888888888, 0.4583333333333333, 0.5138888888888888, 0.4861111111111111, 0.5, 0.5277777777777778, 0.5416666666666666, 0.5416666666666666, 0.5138888888888888, 0.5], [0.6111111111111112, 0.5416666666666666, 0.5833333333333334, 0.5277777777777778, 0.5416666666666666, 0.5833333333333334, 0.5555555555555556, 0.5416666666666666, 0.6944444444444444, 0.5972222222222222], [0.5972222222222222, 0.6111111111111112, 0.6527777777777778, 0.6388888888888888, 0.6527777777777778, 0.5972222222222222, 0.6388888888888888, 0.6944444444444444, 0.6111111111111112, 0.6527777777777778], [0.5694444444444444, 0.4305555555555556, 0.5138888888888888, 0.5555555555555556, 0.5277777777777778, 0.5972222222222222, 0.5138888888888888, 0.5138888888888888, 0.5277777777777778, 0.5972222222222222]]\n",
    "b = [[i[3], i[4], i[7], i[8]] for i in a]\n",
    "b"
   ]
  },
  {
   "cell_type": "code",
   "execution_count": 19,
   "metadata": {},
   "outputs": [
    {
     "data": {
      "text/html": [
       "<div>\n",
       "<style scoped>\n",
       "    .dataframe tbody tr th:only-of-type {\n",
       "        vertical-align: middle;\n",
       "    }\n",
       "\n",
       "    .dataframe tbody tr th {\n",
       "        vertical-align: top;\n",
       "    }\n",
       "\n",
       "    .dataframe thead th {\n",
       "        text-align: right;\n",
       "    }\n",
       "</style>\n",
       "<table border=\"1\" class=\"dataframe\">\n",
       "  <thead>\n",
       "    <tr style=\"text-align: right;\">\n",
       "      <th></th>\n",
       "      <th>Unnamed: 0</th>\n",
       "      <th>scene_id</th>\n",
       "      <th>raw_text</th>\n",
       "      <th>characters</th>\n",
       "      <th>cAGR</th>\n",
       "      <th>dialog_state</th>\n",
       "      <th>sent</th>\n",
       "      <th>utterance</th>\n",
       "      <th>context</th>\n",
       "      <th>labels</th>\n",
       "    </tr>\n",
       "  </thead>\n",
       "  <tbody>\n",
       "    <tr>\n",
       "      <td>0</td>\n",
       "      <td>0</td>\n",
       "      <td>01_e12_c08(0)</td>\n",
       "      <td>[['Monica Geller', ' Well, what happened?'], [...</td>\n",
       "      <td>Phoebe Buffay</td>\n",
       "      <td>False</td>\n",
       "      <td>[0, 0, 0, 0, 0, 0, 0, 0, 0, 0, 0]</td>\n",
       "      <td>Well, what happened? Well, he came in for a m...</td>\n",
       "      <td>Well, he came in for a massage, and everythi...</td>\n",
       "      <td>Well, what happened?  Ooooohh!  My God.  Are...</td>\n",
       "      <td>0</td>\n",
       "    </tr>\n",
       "    <tr>\n",
       "      <td>1</td>\n",
       "      <td>1</td>\n",
       "      <td>03_e24_c04(0)</td>\n",
       "      <td>[['Monica', ' (to Chandler) Anything but stew....</td>\n",
       "      <td>Rachel</td>\n",
       "      <td>False</td>\n",
       "      <td>[0, 0, 0, 0, 0, 1, 0, 1]</td>\n",
       "      <td>(to Chandler) Anything but stew. All right so...</td>\n",
       "      <td>Yeah.  Oh, ah with who?</td>\n",
       "      <td>(to Chandler) Anything but stew.  All right ...</td>\n",
       "      <td>0</td>\n",
       "    </tr>\n",
       "    <tr>\n",
       "      <td>2</td>\n",
       "      <td>2</td>\n",
       "      <td>02_e19_c06(0)</td>\n",
       "      <td>[['Eddie', ' Hey pal.'], ['Chandler Bing', \" A...</td>\n",
       "      <td>Eddie</td>\n",
       "      <td>True</td>\n",
       "      <td>[1, 0, 1, 0, 1, 0]</td>\n",
       "      <td>Hey pal. Ahhhh-gaaaahhh. Eddie what're you st...</td>\n",
       "      <td>Hey pal.  Ah, just some basic dehydrating of...</td>\n",
       "      <td>Ahhhh-gaaaahhh. Eddie what're you still doin...</td>\n",
       "      <td>1</td>\n",
       "    </tr>\n",
       "    <tr>\n",
       "      <td>3</td>\n",
       "      <td>3</td>\n",
       "      <td>02_e12_c05(0)</td>\n",
       "      <td>[['Chandler Bing', \" Oh no no no, she's a tota...</td>\n",
       "      <td>Phoebe Buffay</td>\n",
       "      <td>True</td>\n",
       "      <td>[0, 0, 0, 0, 0, 0, 0]</td>\n",
       "      <td>Oh no no no, she's a total wack job. Yeah, sh...</td>\n",
       "      <td>No, uh-uh, I'm just, I'm nervous. So, you kn...</td>\n",
       "      <td>Oh no no no, she's a total wack job. Yeah, s...</td>\n",
       "      <td>1</td>\n",
       "    </tr>\n",
       "    <tr>\n",
       "      <td>4</td>\n",
       "      <td>4</td>\n",
       "      <td>02_e22_c03(1)</td>\n",
       "      <td>[['Joey Tribbiani', \" Uh, hey, Dr. Greene, why...</td>\n",
       "      <td>Chandler Bing</td>\n",
       "      <td>False</td>\n",
       "      <td>[0, 0, 0, 0, 0, 0, 0, 0, 0, 0, 0, 0, 0, 0, 0]</td>\n",
       "      <td>Uh, hey, Dr. Greene, why don't you come with ...</td>\n",
       "      <td>Yes because uh, you look so young.  NO! No, ...</td>\n",
       "      <td>Uh, hey, Dr. Greene, why don't you come with...</td>\n",
       "      <td>0</td>\n",
       "    </tr>\n",
       "  </tbody>\n",
       "</table>\n",
       "</div>"
      ],
      "text/plain": [
       "   Unnamed: 0        scene_id  \\\n",
       "0           0  01_e12_c08(0)    \n",
       "1           1  03_e24_c04(0)    \n",
       "2           2  02_e19_c06(0)    \n",
       "3           3  02_e12_c05(0)    \n",
       "4           4  02_e22_c03(1)    \n",
       "\n",
       "                                            raw_text     characters   cAGR  \\\n",
       "0  [['Monica Geller', ' Well, what happened?'], [...  Phoebe Buffay  False   \n",
       "1  [['Monica', ' (to Chandler) Anything but stew....         Rachel  False   \n",
       "2  [['Eddie', ' Hey pal.'], ['Chandler Bing', \" A...          Eddie   True   \n",
       "3  [['Chandler Bing', \" Oh no no no, she's a tota...  Phoebe Buffay   True   \n",
       "4  [['Joey Tribbiani', \" Uh, hey, Dr. Greene, why...  Chandler Bing  False   \n",
       "\n",
       "                                    dialog_state  \\\n",
       "0              [0, 0, 0, 0, 0, 0, 0, 0, 0, 0, 0]   \n",
       "1                       [0, 0, 0, 0, 0, 1, 0, 1]   \n",
       "2                             [1, 0, 1, 0, 1, 0]   \n",
       "3                          [0, 0, 0, 0, 0, 0, 0]   \n",
       "4  [0, 0, 0, 0, 0, 0, 0, 0, 0, 0, 0, 0, 0, 0, 0]   \n",
       "\n",
       "                                                sent  \\\n",
       "0   Well, what happened? Well, he came in for a m...   \n",
       "1   (to Chandler) Anything but stew. All right so...   \n",
       "2   Hey pal. Ahhhh-gaaaahhh. Eddie what're you st...   \n",
       "3   Oh no no no, she's a total wack job. Yeah, sh...   \n",
       "4   Uh, hey, Dr. Greene, why don't you come with ...   \n",
       "\n",
       "                                           utterance  \\\n",
       "0    Well, he came in for a massage, and everythi...   \n",
       "1                            Yeah.  Oh, ah with who?   \n",
       "2    Hey pal.  Ah, just some basic dehydrating of...   \n",
       "3    No, uh-uh, I'm just, I'm nervous. So, you kn...   \n",
       "4    Yes because uh, you look so young.  NO! No, ...   \n",
       "\n",
       "                                             context  labels  \n",
       "0    Well, what happened?  Ooooohh!  My God.  Are...       0  \n",
       "1    (to Chandler) Anything but stew.  All right ...       0  \n",
       "2    Ahhhh-gaaaahhh. Eddie what're you still doin...       1  \n",
       "3    Oh no no no, she's a total wack job. Yeah, s...       1  \n",
       "4    Uh, hey, Dr. Greene, why don't you come with...       0  "
      ]
     },
     "execution_count": 19,
     "metadata": {},
     "output_type": "execute_result"
    }
   ],
   "source": [
    "df = pd.read_csv('../data/Friends_A_whole.tsv', sep='\\t')\n",
    "df.head()"
   ]
  },
  {
   "cell_type": "code",
   "execution_count": 26,
   "metadata": {},
   "outputs": [
    {
     "data": {
      "text/plain": [
       "[5, 7, 9]"
      ]
     },
     "execution_count": 26,
     "metadata": {},
     "output_type": "execute_result"
    }
   ],
   "source": [
    "[a+b for a, b in zip([1,2,3], [4,5,6])]"
   ]
  },
  {
   "cell_type": "code",
   "execution_count": 17,
   "metadata": {},
   "outputs": [
    {
     "name": "stdout",
     "output_type": "stream",
     "text": [
      "0.5643749999999998\n"
     ]
    },
    {
     "data": {
      "text/html": [
       "<div>\n",
       "<style scoped>\n",
       "    .dataframe tbody tr th:only-of-type {\n",
       "        vertical-align: middle;\n",
       "    }\n",
       "\n",
       "    .dataframe tbody tr th {\n",
       "        vertical-align: top;\n",
       "    }\n",
       "\n",
       "    .dataframe thead th {\n",
       "        text-align: right;\n",
       "    }\n",
       "</style>\n",
       "<table border=\"1\" class=\"dataframe\">\n",
       "  <thead>\n",
       "    <tr style=\"text-align: right;\">\n",
       "      <th></th>\n",
       "      <th>0</th>\n",
       "      <th>1</th>\n",
       "      <th>2</th>\n",
       "      <th>3</th>\n",
       "      <th>4</th>\n",
       "    </tr>\n",
       "  </thead>\n",
       "  <tbody>\n",
       "    <tr>\n",
       "      <td>count</td>\n",
       "      <td>10.000000</td>\n",
       "      <td>10.000000</td>\n",
       "      <td>10.000000</td>\n",
       "      <td>10.000000</td>\n",
       "      <td>10.000000</td>\n",
       "    </tr>\n",
       "    <tr>\n",
       "      <td>mean</td>\n",
       "      <td>0.539062</td>\n",
       "      <td>0.548438</td>\n",
       "      <td>0.570312</td>\n",
       "      <td>0.653125</td>\n",
       "      <td>0.510938</td>\n",
       "    </tr>\n",
       "    <tr>\n",
       "      <td>std</td>\n",
       "      <td>0.052213</td>\n",
       "      <td>0.052833</td>\n",
       "      <td>0.036272</td>\n",
       "      <td>0.023058</td>\n",
       "      <td>0.050524</td>\n",
       "    </tr>\n",
       "    <tr>\n",
       "      <td>min</td>\n",
       "      <td>0.453125</td>\n",
       "      <td>0.453125</td>\n",
       "      <td>0.500000</td>\n",
       "      <td>0.625000</td>\n",
       "      <td>0.406250</td>\n",
       "    </tr>\n",
       "    <tr>\n",
       "      <td>25%</td>\n",
       "      <td>0.519531</td>\n",
       "      <td>0.546875</td>\n",
       "      <td>0.546875</td>\n",
       "      <td>0.628906</td>\n",
       "      <td>0.488281</td>\n",
       "    </tr>\n",
       "    <tr>\n",
       "      <td>50%</td>\n",
       "      <td>0.539062</td>\n",
       "      <td>0.546875</td>\n",
       "      <td>0.578125</td>\n",
       "      <td>0.656250</td>\n",
       "      <td>0.507812</td>\n",
       "    </tr>\n",
       "    <tr>\n",
       "      <td>75%</td>\n",
       "      <td>0.562500</td>\n",
       "      <td>0.578125</td>\n",
       "      <td>0.589844</td>\n",
       "      <td>0.671875</td>\n",
       "      <td>0.531250</td>\n",
       "    </tr>\n",
       "    <tr>\n",
       "      <td>max</td>\n",
       "      <td>0.625000</td>\n",
       "      <td>0.625000</td>\n",
       "      <td>0.625000</td>\n",
       "      <td>0.687500</td>\n",
       "      <td>0.593750</td>\n",
       "    </tr>\n",
       "  </tbody>\n",
       "</table>\n",
       "</div>"
      ],
      "text/plain": [
       "               0          1          2          3          4\n",
       "count  10.000000  10.000000  10.000000  10.000000  10.000000\n",
       "mean    0.539062   0.548438   0.570312   0.653125   0.510938\n",
       "std     0.052213   0.052833   0.036272   0.023058   0.050524\n",
       "min     0.453125   0.453125   0.500000   0.625000   0.406250\n",
       "25%     0.519531   0.546875   0.546875   0.628906   0.488281\n",
       "50%     0.539062   0.546875   0.578125   0.656250   0.507812\n",
       "75%     0.562500   0.578125   0.589844   0.671875   0.531250\n",
       "max     0.625000   0.625000   0.625000   0.687500   0.593750"
      ]
     },
     "execution_count": 17,
     "metadata": {},
     "output_type": "execute_result"
    }
   ],
   "source": [
    "results = [[0.453125, 0.53125, 0.515625, 0.59375, 0.625, 0.53125, 0.5625, 0.5625, 0.546875, 0.46875], [0.546875, 0.453125, 0.46875, 0.625, 0.578125, 0.59375, 0.546875, 0.546875, 0.578125, 0.546875], [0.609375, 0.546875, 0.578125, 0.578125, 0.625, 0.578125, 0.59375, 0.546875, 0.546875, 0.5], [0.671875, 0.65625, 0.671875, 0.625, 0.640625, 0.625, 0.6875, 0.65625, 0.625, 0.671875], [0.5, 0.484375, 0.5, 0.484375, 0.5625, 0.515625, 0.59375, 0.53125, 0.53125, 0.40625]]\n",
    "df = pd.DataFrame(results).T\n",
    "print(df.describe().iloc[1].mean())\n",
    "df.describe()\n",
    "\n"
   ]
  },
  {
   "cell_type": "code",
   "execution_count": 90,
   "metadata": {},
   "outputs": [
    {
     "name": "stdout",
     "output_type": "stream",
     "text": [
      "0.5622222222222222\n"
     ]
    },
    {
     "data": {
      "text/html": [
       "<div>\n",
       "<style scoped>\n",
       "    .dataframe tbody tr th:only-of-type {\n",
       "        vertical-align: middle;\n",
       "    }\n",
       "\n",
       "    .dataframe tbody tr th {\n",
       "        vertical-align: top;\n",
       "    }\n",
       "\n",
       "    .dataframe thead th {\n",
       "        text-align: right;\n",
       "    }\n",
       "</style>\n",
       "<table border=\"1\" class=\"dataframe\">\n",
       "  <thead>\n",
       "    <tr style=\"text-align: right;\">\n",
       "      <th></th>\n",
       "      <th>0</th>\n",
       "      <th>1</th>\n",
       "      <th>2</th>\n",
       "      <th>3</th>\n",
       "      <th>4</th>\n",
       "    </tr>\n",
       "  </thead>\n",
       "  <tbody>\n",
       "    <tr>\n",
       "      <th>count</th>\n",
       "      <td>10.000000</td>\n",
       "      <td>10.000000</td>\n",
       "      <td>10.000000</td>\n",
       "      <td>10.000000</td>\n",
       "      <td>10.000000</td>\n",
       "    </tr>\n",
       "    <tr>\n",
       "      <th>mean</th>\n",
       "      <td>0.583333</td>\n",
       "      <td>0.537500</td>\n",
       "      <td>0.583333</td>\n",
       "      <td>0.611111</td>\n",
       "      <td>0.495833</td>\n",
       "    </tr>\n",
       "    <tr>\n",
       "      <th>std</th>\n",
       "      <td>0.026995</td>\n",
       "      <td>0.045385</td>\n",
       "      <td>0.032736</td>\n",
       "      <td>0.027778</td>\n",
       "      <td>0.053612</td>\n",
       "    </tr>\n",
       "    <tr>\n",
       "      <th>min</th>\n",
       "      <td>0.527778</td>\n",
       "      <td>0.458333</td>\n",
       "      <td>0.555556</td>\n",
       "      <td>0.583333</td>\n",
       "      <td>0.402778</td>\n",
       "    </tr>\n",
       "    <tr>\n",
       "      <th>25%</th>\n",
       "      <td>0.569444</td>\n",
       "      <td>0.527778</td>\n",
       "      <td>0.555556</td>\n",
       "      <td>0.586806</td>\n",
       "      <td>0.486111</td>\n",
       "    </tr>\n",
       "    <tr>\n",
       "      <th>50%</th>\n",
       "      <td>0.583333</td>\n",
       "      <td>0.534722</td>\n",
       "      <td>0.569444</td>\n",
       "      <td>0.604167</td>\n",
       "      <td>0.513889</td>\n",
       "    </tr>\n",
       "    <tr>\n",
       "      <th>75%</th>\n",
       "      <td>0.597222</td>\n",
       "      <td>0.552083</td>\n",
       "      <td>0.607639</td>\n",
       "      <td>0.631944</td>\n",
       "      <td>0.527778</td>\n",
       "    </tr>\n",
       "    <tr>\n",
       "      <th>max</th>\n",
       "      <td>0.625000</td>\n",
       "      <td>0.611111</td>\n",
       "      <td>0.638889</td>\n",
       "      <td>0.652778</td>\n",
       "      <td>0.555556</td>\n",
       "    </tr>\n",
       "  </tbody>\n",
       "</table>\n",
       "</div>"
      ],
      "text/plain": [
       "               0          1          2          3          4\n",
       "count  10.000000  10.000000  10.000000  10.000000  10.000000\n",
       "mean    0.583333   0.537500   0.583333   0.611111   0.495833\n",
       "std     0.026995   0.045385   0.032736   0.027778   0.053612\n",
       "min     0.527778   0.458333   0.555556   0.583333   0.402778\n",
       "25%     0.569444   0.527778   0.555556   0.586806   0.486111\n",
       "50%     0.583333   0.534722   0.569444   0.604167   0.513889\n",
       "75%     0.597222   0.552083   0.607639   0.631944   0.527778\n",
       "max     0.625000   0.611111   0.638889   0.652778   0.555556"
      ]
     },
     "execution_count": 90,
     "metadata": {},
     "output_type": "execute_result"
    }
   ],
   "source": [
    "results = [[0.5833333333333334, 0.5833333333333334, 0.6111111111111112, 0.5972222222222222, 0.5277777777777778, 0.5972222222222222, 0.5694444444444444, 0.5694444444444444, 0.625, 0.5694444444444444], [0.5416666666666666, 0.5972222222222222, 0.5555555555555556, 0.6111111111111112, 0.5277777777777778, 0.5277777777777778, 0.4583333333333333, 0.5416666666666666, 0.5277777777777778, 0.4861111111111111], [0.625, 0.5555555555555556, 0.5555555555555556, 0.6111111111111112, 0.5833333333333334, 0.5972222222222222, 0.5555555555555556, 0.5555555555555556, 0.5555555555555556, 0.6388888888888888], [0.6111111111111112, 0.6527777777777778, 0.6527777777777778, 0.5972222222222222, 0.5833333333333334, 0.5833333333333334, 0.5833333333333334, 0.6388888888888888, 0.6111111111111112, 0.5972222222222222], [0.5138888888888888, 0.5277777777777778, 0.5138888888888888, 0.5555555555555556, 0.4027777777777778, 0.5277777777777778, 0.5416666666666666, 0.4861111111111111, 0.4861111111111111, 0.4027777777777778]]\n",
    "df = pd.DataFrame(results).T\n",
    "print(df.describe().iloc[1].mean())\n",
    "df.describe()"
   ]
  },
  {
   "cell_type": "code",
   "execution_count": 87,
   "metadata": {},
   "outputs": [
    {
     "data": {
      "text/plain": [
       "61.25600000000001"
      ]
     },
     "execution_count": 87,
     "metadata": {},
     "output_type": "execute_result"
    }
   ],
   "source": [
    "( 62.77 + 57.07 + 63.62 + 66.33 + 56.49)/5.0"
   ]
  }
 ],
 "metadata": {
  "kernelspec": {
   "display_name": "Python 3",
   "language": "python",
   "name": "python3"
  },
  "language_info": {
   "codemirror_mode": {
    "name": "ipython",
    "version": 3
   },
   "file_extension": ".py",
   "mimetype": "text/x-python",
   "name": "python",
   "nbconvert_exporter": "python",
   "pygments_lexer": "ipython3",
   "version": "3.7.4"
  }
 },
 "nbformat": 4,
 "nbformat_minor": 4
}
