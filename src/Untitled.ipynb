{
 "cells": [
  {
   "cell_type": "code",
   "execution_count": 69,
   "metadata": {},
   "outputs": [
    {
     "name": "stdout",
     "output_type": "stream",
     "text": [
      "[7, 4, 3, 6, 2, 9] [1, 0, 8, 5]\n",
      "['g', 'd', 'c', 'f', 'b', 'i'] ['a', 'j', 'h', 'e']\n"
     ]
    }
   ],
   "source": [
    "from sklearn.model_selection import train_test_split\n",
    "\n",
    "\n",
    "a = [1,2,3,4,5,6,7,8,9,0]\n",
    "b = ['a', 'b', 'c', 'd', 'e', 'f', 'g', 'h', 'i', 'j']\n",
    "labels = [1,2,2,2,1,1,1,2,2,2]\n",
    "\n",
    "\n",
    "train_a, test_a, _, _ = train_test_split(a, label, random_state=0, test_size=0.4,  stratify=labels)\n",
    "print(train_a, test_a)\n",
    "train_b, test_b, _, _ = train_test_split(b, label, random_state=0, test_size=0.4,  stratify=labels)\n",
    "print(train_b, test_b)"
   ]
  },
  {
   "cell_type": "code",
   "execution_count": 54,
   "metadata": {},
   "outputs": [],
   "source": [
    "inputs = tokenizer(\"Hello, my dog is cute\", return_tensors='pt')"
   ]
  },
  {
   "cell_type": "code",
   "execution_count": 56,
   "metadata": {},
   "outputs": [],
   "source": [
    "output = model(**inputs)"
   ]
  },
  {
   "cell_type": "code",
   "execution_count": 61,
   "metadata": {},
   "outputs": [],
   "source": [
    "a = output[1]"
   ]
  },
  {
   "cell_type": "code",
   "execution_count": null,
   "metadata": {},
   "outputs": [],
   "source": [
    "b = output[]"
   ]
  },
  {
   "cell_type": "code",
   "execution_count": 27,
   "metadata": {},
   "outputs": [
    {
     "name": "stderr",
     "output_type": "stream",
     "text": [
      "Truncation was not explicitly activated but `max_length` is provided a specific value, please use `truncation=True` to explicitly truncate examples to max length. Defaulting to 'longest_first' truncation strategy. If you encode pairs of sequences (GLUE-style) with the tokenizer you can select this strategy more precisely by providing a specific strategy to `truncation`.\n",
      "/home/zhiyuan/ENTER/lib/python3.8/site-packages/transformers/tokenization_utils_base.py:2198: FutureWarning: The `pad_to_max_length` argument is deprecated and will be removed in a future version, use `padding=True` or `padding='longest'` to pad to the longest sequence in the batch, or use `padding='max_length'` to pad to a max length. In this case, you can give a specific length with `max_length` (e.g. `max_length=45`) or leave max_length to None to pad to the maximal input size of the model (e.g. 512 for Bert).\n",
      "  warnings.warn(\n"
     ]
    }
   ],
   "source": [
    "df = pd.read_csv('../data/Friends_A.tsv', sep='\\t')\n",
    "\n",
    "import re\n",
    "uttrs = [tokenizer.encode(sent, add_special_tokens=True, max_length=64, \\\n",
    "            pad_to_max_length=True) for sent in df['utterance']]\n",
    "vad_scores = get_vad(VAD_dict, uttrs, tokenizer)"
   ]
  },
  {
   "cell_type": "code",
   "execution_count": 35,
   "metadata": {},
   "outputs": [],
   "source": [
    "df['uttr_V'] = [i[0] for i in vad_scores]\n",
    "df['uttr_A'] = [i[1] for i in vad_scores]\n",
    "df['uttr_D'] = [i[2] for i in vad_scores]"
   ]
  },
  {
   "cell_type": "code",
   "execution_count": 36,
   "metadata": {},
   "outputs": [
    {
     "name": "stderr",
     "output_type": "stream",
     "text": [
      "<ipython-input-36-49199ccb30e2>:8: SettingWithCopyWarning: \n",
      "A value is trying to be set on a copy of a slice from a DataFrame.\n",
      "Try using .loc[row_indexer,col_indexer] = value instead\n",
      "\n",
      "See the caveats in the documentation: https://pandas.pydata.org/pandas-docs/stable/user_guide/indexing.html#returning-a-view-versus-a-copy\n",
      "  df_vad['uttr_V_cls'] = df_vad['uttr_V'].apply(vad_class)\n",
      "<ipython-input-36-49199ccb30e2>:9: SettingWithCopyWarning: \n",
      "A value is trying to be set on a copy of a slice from a DataFrame.\n",
      "Try using .loc[row_indexer,col_indexer] = value instead\n",
      "\n",
      "See the caveats in the documentation: https://pandas.pydata.org/pandas-docs/stable/user_guide/indexing.html#returning-a-view-versus-a-copy\n",
      "  df_vad['uttr_A_cls'] = df_vad['uttr_A'].apply(vad_class)\n",
      "<ipython-input-36-49199ccb30e2>:10: SettingWithCopyWarning: \n",
      "A value is trying to be set on a copy of a slice from a DataFrame.\n",
      "Try using .loc[row_indexer,col_indexer] = value instead\n",
      "\n",
      "See the caveats in the documentation: https://pandas.pydata.org/pandas-docs/stable/user_guide/indexing.html#returning-a-view-versus-a-copy\n",
      "  df_vad['uttr_D_cls'] = df_vad['uttr_D'].apply(vad_class)\n"
     ]
    },
    {
     "data": {
      "text/html": [
       "<div>\n",
       "<style scoped>\n",
       "    .dataframe tbody tr th:only-of-type {\n",
       "        vertical-align: middle;\n",
       "    }\n",
       "\n",
       "    .dataframe tbody tr th {\n",
       "        vertical-align: top;\n",
       "    }\n",
       "\n",
       "    .dataframe thead th {\n",
       "        text-align: right;\n",
       "    }\n",
       "</style>\n",
       "<table border=\"1\" class=\"dataframe\">\n",
       "  <thead>\n",
       "    <tr style=\"text-align: right;\">\n",
       "      <th></th>\n",
       "      <th>uttr_V</th>\n",
       "      <th>uttr_A</th>\n",
       "      <th>uttr_D</th>\n",
       "    </tr>\n",
       "  </thead>\n",
       "  <tbody>\n",
       "    <tr>\n",
       "      <th>count</th>\n",
       "      <td>568.000000</td>\n",
       "      <td>568.000000</td>\n",
       "      <td>568.000000</td>\n",
       "    </tr>\n",
       "    <tr>\n",
       "      <th>mean</th>\n",
       "      <td>0.112223</td>\n",
       "      <td>0.077694</td>\n",
       "      <td>0.091663</td>\n",
       "    </tr>\n",
       "    <tr>\n",
       "      <th>std</th>\n",
       "      <td>0.071973</td>\n",
       "      <td>0.049587</td>\n",
       "      <td>0.058517</td>\n",
       "    </tr>\n",
       "    <tr>\n",
       "      <th>min</th>\n",
       "      <td>0.000000</td>\n",
       "      <td>0.000000</td>\n",
       "      <td>0.000000</td>\n",
       "    </tr>\n",
       "    <tr>\n",
       "      <th>25%</th>\n",
       "      <td>0.048799</td>\n",
       "      <td>0.032505</td>\n",
       "      <td>0.038948</td>\n",
       "    </tr>\n",
       "    <tr>\n",
       "      <th>50%</th>\n",
       "      <td>0.114265</td>\n",
       "      <td>0.078308</td>\n",
       "      <td>0.090473</td>\n",
       "    </tr>\n",
       "    <tr>\n",
       "      <th>75%</th>\n",
       "      <td>0.166616</td>\n",
       "      <td>0.118205</td>\n",
       "      <td>0.138198</td>\n",
       "    </tr>\n",
       "    <tr>\n",
       "      <th>max</th>\n",
       "      <td>0.290769</td>\n",
       "      <td>0.227625</td>\n",
       "      <td>0.256878</td>\n",
       "    </tr>\n",
       "  </tbody>\n",
       "</table>\n",
       "</div>"
      ],
      "text/plain": [
       "           uttr_V      uttr_A      uttr_D\n",
       "count  568.000000  568.000000  568.000000\n",
       "mean     0.112223    0.077694    0.091663\n",
       "std      0.071973    0.049587    0.058517\n",
       "min      0.000000    0.000000    0.000000\n",
       "25%      0.048799    0.032505    0.038948\n",
       "50%      0.114265    0.078308    0.090473\n",
       "75%      0.166616    0.118205    0.138198\n",
       "max      0.290769    0.227625    0.256878"
      ]
     },
     "execution_count": 36,
     "metadata": {},
     "output_type": "execute_result"
    }
   ],
   "source": [
    "def vad_class(score):\n",
    "    score = str(int(score * 10.0))\n",
    "    return score\n",
    "\n",
    "\n",
    "df_vad = df[['uttr_V', 'uttr_A', 'uttr_D']]\n",
    "\n",
    "df_vad['uttr_V_cls'] = df_vad['uttr_V'].apply(vad_class)\n",
    "df_vad['uttr_A_cls'] = df_vad['uttr_A'].apply(vad_class)\n",
    "df_vad['uttr_D_cls'] = df_vad['uttr_D'].apply(vad_class)\n",
    "df_vad.describe()"
   ]
  },
  {
   "cell_type": "code",
   "execution_count": 39,
   "metadata": {},
   "outputs": [
    {
     "name": "stderr",
     "output_type": "stream",
     "text": [
      "<ipython-input-39-c9ce23418253>:1: SettingWithCopyWarning: \n",
      "A value is trying to be set on a copy of a slice from a DataFrame.\n",
      "Try using .loc[row_indexer,col_indexer] = value instead\n",
      "\n",
      "See the caveats in the documentation: https://pandas.pydata.org/pandas-docs/stable/user_guide/indexing.html#returning-a-view-versus-a-copy\n",
      "  df_vad['vad_cls'] = df_vad['uttr_V_cls'].apply(int) + df_vad['uttr_A_cls'].apply(int) + df_vad['uttr_D_cls'].apply(int)\n"
     ]
    },
    {
     "data": {
      "text/html": [
       "<div>\n",
       "<style scoped>\n",
       "    .dataframe tbody tr th:only-of-type {\n",
       "        vertical-align: middle;\n",
       "    }\n",
       "\n",
       "    .dataframe tbody tr th {\n",
       "        vertical-align: top;\n",
       "    }\n",
       "\n",
       "    .dataframe thead th {\n",
       "        text-align: right;\n",
       "    }\n",
       "</style>\n",
       "<table border=\"1\" class=\"dataframe\">\n",
       "  <thead>\n",
       "    <tr style=\"text-align: right;\">\n",
       "      <th></th>\n",
       "      <th>uttr_V</th>\n",
       "      <th>uttr_A</th>\n",
       "      <th>uttr_D</th>\n",
       "      <th>uttr_V_cls</th>\n",
       "      <th>uttr_A_cls</th>\n",
       "      <th>uttr_D_cls</th>\n",
       "      <th>vad_cls</th>\n",
       "    </tr>\n",
       "  </thead>\n",
       "  <tbody>\n",
       "    <tr>\n",
       "      <th>0</th>\n",
       "      <td>0.157341</td>\n",
       "      <td>0.145818</td>\n",
       "      <td>0.156182</td>\n",
       "      <td>1</td>\n",
       "      <td>1</td>\n",
       "      <td>1</td>\n",
       "      <td>3</td>\n",
       "    </tr>\n",
       "    <tr>\n",
       "      <th>1</th>\n",
       "      <td>0.096889</td>\n",
       "      <td>0.053463</td>\n",
       "      <td>0.064815</td>\n",
       "      <td>0</td>\n",
       "      <td>0</td>\n",
       "      <td>0</td>\n",
       "      <td>0</td>\n",
       "    </tr>\n",
       "    <tr>\n",
       "      <th>2</th>\n",
       "      <td>0.134320</td>\n",
       "      <td>0.103540</td>\n",
       "      <td>0.119080</td>\n",
       "      <td>1</td>\n",
       "      <td>1</td>\n",
       "      <td>1</td>\n",
       "      <td>3</td>\n",
       "    </tr>\n",
       "    <tr>\n",
       "      <th>3</th>\n",
       "      <td>0.127163</td>\n",
       "      <td>0.092512</td>\n",
       "      <td>0.119093</td>\n",
       "      <td>1</td>\n",
       "      <td>0</td>\n",
       "      <td>1</td>\n",
       "      <td>2</td>\n",
       "    </tr>\n",
       "    <tr>\n",
       "      <th>4</th>\n",
       "      <td>0.046421</td>\n",
       "      <td>0.046263</td>\n",
       "      <td>0.044789</td>\n",
       "      <td>0</td>\n",
       "      <td>0</td>\n",
       "      <td>0</td>\n",
       "      <td>0</td>\n",
       "    </tr>\n",
       "  </tbody>\n",
       "</table>\n",
       "</div>"
      ],
      "text/plain": [
       "     uttr_V    uttr_A    uttr_D uttr_V_cls uttr_A_cls uttr_D_cls  vad_cls\n",
       "0  0.157341  0.145818  0.156182          1          1          1        3\n",
       "1  0.096889  0.053463  0.064815          0          0          0        0\n",
       "2  0.134320  0.103540  0.119080          1          1          1        3\n",
       "3  0.127163  0.092512  0.119093          1          0          1        2\n",
       "4  0.046421  0.046263  0.044789          0          0          0        0"
      ]
     },
     "execution_count": 39,
     "metadata": {},
     "output_type": "execute_result"
    }
   ],
   "source": [
    "df_vad['vad_cls'] = df_vad['uttr_V_cls'].apply(int) + df_vad['uttr_A_cls'].apply(int) + df_vad['uttr_D_cls'].apply(int)\n",
    "df_vad.head()"
   ]
  },
  {
   "cell_type": "code",
   "execution_count": 44,
   "metadata": {},
   "outputs": [
    {
     "name": "stderr",
     "output_type": "stream",
     "text": [
      "<ipython-input-44-50d5e766a4d1>:1: SettingWithCopyWarning: \n",
      "A value is trying to be set on a copy of a slice from a DataFrame.\n",
      "Try using .loc[row_indexer,col_indexer] = value instead\n",
      "\n",
      "See the caveats in the documentation: https://pandas.pydata.org/pandas-docs/stable/user_guide/indexing.html#returning-a-view-versus-a-copy\n",
      "  df_vad['vad_cls'] = df_vad['vad_cls'].apply(str)\n"
     ]
    },
    {
     "data": {
      "text/plain": [
       "0    257\n",
       "3    140\n",
       "2     59\n",
       "4     57\n",
       "1     41\n",
       "5     12\n",
       "6      2\n",
       "Name: vad_cls, dtype: int64"
      ]
     },
     "execution_count": 44,
     "metadata": {},
     "output_type": "execute_result"
    }
   ],
   "source": [
    "df_vad['vad_cls'] = df_vad['vad_cls'].apply(str)\n",
    "df_vad['vad_cls'].value_counts()"
   ]
  }
 ],
 "metadata": {
  "kernelspec": {
   "display_name": "Python 3",
   "language": "python",
   "name": "python3"
  },
  "language_info": {
   "codemirror_mode": {
    "name": "ipython",
    "version": 3
   },
   "file_extension": ".py",
   "mimetype": "text/x-python",
   "name": "python",
   "nbconvert_exporter": "python",
   "pygments_lexer": "ipython3",
   "version": "3.8.5"
  }
 },
 "nbformat": 4,
 "nbformat_minor": 4
}
